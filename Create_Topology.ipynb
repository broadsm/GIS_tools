{
 "cells": [
  {
   "cell_type": "code",
   "execution_count": null,
   "metadata": {
    "collapsed": true
   },
   "outputs": [],
   "source": [
    "import arcpy as ap\n",
    "from arcpy import env\n",
    "\n",
    "workspace = r'C:\\Users\\broadways\\CDOT_temp\\Arc\\Modeling_Network'"
   ]
  },
  {
   "cell_type": "code",
   "execution_count": null,
   "metadata": {
    "collapsed": false
   },
   "outputs": [],
   "source": [
    "# Creating a spatial reference object; GRS 1980\n",
    "sr = arcpy.SpatialReference(4019)\n",
    "ap.env.outputCoordinateSystem = sr"
   ]
  },
  {
   "cell_type": "code",
   "execution_count": null,
   "metadata": {
    "collapsed": true
   },
   "outputs": [],
   "source": [
    "import arcpy as ap\n",
    "import os\n",
    "\n",
    "\n",
    "# create variables for directories that will be used throughout this notebook\n",
    "local_directory = r'\\\\CDOTDBD01\\Shared\\Conflating_Networks'\n",
    "directory_containing_original_shapefiles = local_directory + '\\\\network_shapefiles\\Test'\n",
    "local_geodatabase = local_directory + '\\\\working_files.gdb'\n",
    "\n",
    "\n",
    "# define the workspace as the location of the original shapefiles and create a list of the shapefiles\n",
    "ap.env.workspace = directory_containing_original_shapefiles\n",
    "network_shapefiles = [x[:-4] for x in ap.ListFeatureClasses()]\n",
    "ap.env.workspace = local_directory\n",
    "\n",
    "# if the geodatabase doesn't exist, create it\n",
    "if ap.Exists(local_geodatabase) == False:\n",
    "    ap.CreateFileGDB_management(local_directory, 'working_files.gdb')\n",
    "    \n",
    "# define spatial reference as NAD_1983_2011_UTM_Zone_13N\n",
    "spatial_reference = ap.SpatialReference(102382)\n",
    "ap.env.outputCoordinateSystem = spatial_reference\n",
    "\n",
    "ap.env.workspace = local_geodatabase"
   ]
  },
  {
   "cell_type": "code",
   "execution_count": null,
   "metadata": {
    "collapsed": false
   },
   "outputs": [],
   "source": [
    "# Create geodatabase to hold the feature dataset\n",
    "env.workspace = r\"C:\\Users\\broadways\\CDOT_temp\\Arc\\Modeling_Network\"\n",
    "\n",
    "geodatabase = \"\\Modeling_Network.gdb\"\n",
    "\n",
    "ap.CreateFileGDB_management(workspace, geodatabase)\n"
   ]
  },
  {
   "cell_type": "code",
   "execution_count": null,
   "metadata": {
    "collapsed": false
   },
   "outputs": [],
   "source": [
    "# Create feature dataset\n",
    "\n",
    "# CreateFeatureDataset_management (out_dataset_path, out_name, {spatial_reference})\n",
    "\n",
    "out_dataset_path = workspace + \"\\Modeling_Network.gdb\"\n",
    "out_name = \"network\"\n",
    "\n",
    "arcpy.CreateFeatureDataset_management(out_dataset_path, out_name, sr)"
   ]
  },
  {
   "cell_type": "code",
   "execution_count": null,
   "metadata": {
    "collapsed": false
   },
   "outputs": [],
   "source": [
    "# Convert shapefile (input data) to feature class and import into geodatabase feature dataset\n",
    "\n",
    "# FeatureClassToFeatureClass_conversion (in_features, out_path, out_name, {where_clause}, {field_mapping}, {config_keyword})\n",
    "\n",
    "in_features = \"DTD_2010_links.shp\"\n",
    "out_path = r\"C:\\Users\\broadways\\CDOT_temp\\Arc\\Modeling_Network\\Modeling_Network.gdb\\network\"\n",
    "out_name = \"network_links\"\n",
    "\n",
    "arcpy.FeatureClassToFeatureClass_conversion(in_features, out_path, out_name)\n"
   ]
  },
  {
   "cell_type": "code",
   "execution_count": null,
   "metadata": {
    "collapsed": false
   },
   "outputs": [],
   "source": [
    "# Create topology for feature dataset\n",
    "\n",
    "# CreateTopology_management (in_dataset, out_name, {in_cluster_tolerance})\n",
    "\n",
    "in_dataset = r\"C:\\Users\\broadways\\CDOT_temp\\Arc\\Modeling_Network\\Modeling_Network.gdb\\network\"\n",
    "out_name = \"network_Topology\"\n",
    "\n",
    "ap.CreateTopology_management(in_dataset, out_name)\n"
   ]
  },
  {
   "cell_type": "code",
   "execution_count": null,
   "metadata": {
    "collapsed": false
   },
   "outputs": [],
   "source": [
    "# Name: AddFeatureClassToTopology_Example.py\n",
    "# Description: Adds a feature class to participate in a topology\n",
    "\n",
    "\n",
    "# AddFeatureClassToTopology_management (in_topology, in_featureclass, xy_rank, z_rank)\n",
    "\n",
    "in_topology = r\"C:\\Users\\broadways\\CDOT_temp\\Arc\\Modeling_Network\\Modeling_Network.gdb\\network\\network_Topology\"\n",
    "in_featureclass = r\"C:\\Users\\broadways\\CDOT_temp\\Arc\\Modeling_Network\\Modeling_Network.gdb\\network\\network_links\"\n",
    "\n",
    "#arcpy.AddFeatureClassToTopology_management(in_topology, in_featureclass)\n"
   ]
  },
  {
   "cell_type": "code",
   "execution_count": null,
   "metadata": {
    "collapsed": false
   },
   "outputs": [],
   "source": [
    "# Name: AddRuleToTopology_Example.py\n",
    "# Description: Adds a rule to a topology\n",
    "\n",
    "# AddRuleToTopology_management (in_topology, rule_type, in_featureclass, {subtype}, {in_featureclass2}, {subtype2})\n",
    "\n",
    "\n",
    "# Any intersection of ParcelOutline (BlockLines subtype only) needs to be reviewed\n",
    "arcpy.AddRuleToTopology_management(in_topology, \n",
    "                                   \"Must Not Have Dangles (Line)\",\n",
    "                                   in_featureclass)\n",
    "arcpy.AddRuleToTopology_management(in_topology,\n",
    "                                   \"Must Not Self-Overlap (Line)\",\n",
    "                                   in_featureclass)\n",
    "arcpy.AddRuleToTopology_management(in_topology,\n",
    "                                   \"Must Be Single Part (Line)\",\n",
    "                                   in_featureclass)"
   ]
  },
  {
   "cell_type": "code",
   "execution_count": null,
   "metadata": {
    "collapsed": false
   },
   "outputs": [],
   "source": [
    "# Name: ValidateTopology_Example.py\n",
    "# Description: Validates a topology\n",
    "\n",
    "# ValidateTopology_management (in_topology, {visible_extent})\n",
    "\n",
    "arcpy.ValidateTopology_management(in_topology)"
   ]
  },
  {
   "cell_type": "code",
   "execution_count": null,
   "metadata": {
    "collapsed": false
   },
   "outputs": [],
   "source": [
    "# Set the necessary product code\n",
    "import arceditor\n",
    "\n",
    "# ExportTopologyErrors_management (in_topology, out_path, out_basename)\n",
    "\n",
    "# Process: Export Topology Errors\n",
    "arcpy.ExportTopologyErrors_management(in_topology, out_dataset_path, \"errors_network_topology\")\n"
   ]
  },
  {
   "cell_type": "code",
   "execution_count": null,
   "metadata": {
    "collapsed": true
   },
   "outputs": [],
   "source": [
    "## Possible topology rules:\n",
    "    Must Not Have Gaps (Area) | Must Not Overlap (Line) | Must Not Intersect (Line) | Must Not Have Dangles (Line) | \n",
    "    Must Not Have Pseudo-Nodes (Line) | Must Be Covered By Feature Class Of (Line-Line) | \n",
    "    Must Not Overlap With (Line-Line) | Must Be Covered By (Point-Line) | Must Be Covered By Endpoint Of (Point-Line) | \n",
    "    Boundary Must Be Covered By (Area-Line) | Boundary Must Be Covered By Boundary Of (Area-Area) | \n",
    "    Must Not Self-Overlap (Line) | Must Not Self-Intersect (Line) | Must Not Intersect Or Touch Interior (Line) | \n",
    "    Endpoint Must Be Covered By (Line-Point) | Contains Point (Area-Point) | Must Be Single Part (Line) | \n",
    "    Must Coincide With (Point-Point) | Must Be Disjoint (Point) | Must Not Intersect With (Line-Line) | \n",
    "    Must Not Intersect or Touch Interior With (Line-Line) | Must Be Inside (Line-Area) | Contains One Point (Area-Point).\n",
    "\n"
   ]
  }
 ],
 "metadata": {
  "kernelspec": {
   "display_name": "arc1041",
   "language": "python",
   "name": "arc1041"
  },
  "language_info": {
   "codemirror_mode": {
    "name": "ipython",
    "version": 2
   },
   "file_extension": ".py",
   "mimetype": "text/x-python",
   "name": "python",
   "nbconvert_exporter": "python",
   "pygments_lexer": "ipython2",
   "version": "2.7.10"
  }
 },
 "nbformat": 4,
 "nbformat_minor": 2
}
