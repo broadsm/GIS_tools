{
 "cells": [
  {
   "cell_type": "markdown",
   "metadata": {},
   "source": [
    "<h1> **DOC 1 - DRCOG** </h1>"
   ]
  },
  {
   "cell_type": "code",
   "execution_count": null,
   "metadata": {
    "collapsed": false
   },
   "outputs": [],
   "source": [
    "import sys\n",
    "import zipfile\n",
    "\n",
    "from bs4 import BeautifulSoup\n",
    "\n",
    "with open('Data_dictionary_scrape\\Documentation\\DRCOG_DataDictionary_0909.xml', encoding=\"utf8\") as fp:\n",
    "        soup = BeautifulSoup(fp, \"xml\")\n",
    "        doc1 = soup.prettify()\n",
    "        print(doc1)"
   ]
  },
  {
   "cell_type": "code",
   "execution_count": null,
   "metadata": {
    "collapsed": false
   },
   "outputs": [],
   "source": [
    "## Grab upper case variables (text) from document\n",
    "variables = []\n",
    "import csv\n",
    "\n",
    "with open('Data_dictionary_scrape_DRCOG_2.csv', 'w', newline = '') as f:\n",
    "    writer = csv.writer(f)\n",
    "for x in soup.find_all('t'):\n",
    "    for char in x:\n",
    "        if char.isupper():\n",
    "            v = x.text\n",
    "            variables.append(v)"
   ]
  },
  {
   "cell_type": "code",
   "execution_count": null,
   "metadata": {
    "collapsed": true
   },
   "outputs": [],
   "source": [
    "## Export to CSV\n",
    "with open(r'C:\\Users\\broadways\\CDOT_temp\\Data_dictionary_scrape\\Data_dictionary_scrape_DRCOG_1.csv.csv', 'w', newline='') as f:\n",
    "    writer = csv.writer(f)\n",
    "    writer.writerow(['Missing from DRCOG'])\n",
    "    for x in variables:\n",
    "        writer.writerow([x])"
   ]
  },
  {
   "cell_type": "markdown",
   "metadata": {},
   "source": [
    "<h1> **DOC 2 - FRTC** </h1>"
   ]
  },
  {
   "cell_type": "code",
   "execution_count": null,
   "metadata": {
    "collapsed": false
   },
   "outputs": [],
   "source": [
    "import sys\n",
    "import zipfile\n",
    "\n",
    "from bs4 import BeautifulSoup\n",
    "\n",
    "with open('Data_dictionary_scrape\\Documentation\\FRTCDataDictionaryForCalculatedValues_09072016_IM_EES.xml', encoding=\"utf8\") as doc:\n",
    "        soup = BeautifulSoup(doc, \"xml\")\n",
    "        doc2 = soup.prettify()\n",
    "        print(doc2)"
   ]
  },
  {
   "cell_type": "code",
   "execution_count": null,
   "metadata": {
    "collapsed": false
   },
   "outputs": [],
   "source": [
    "for link in soup.find_all('t'):\n",
    "    x = link.text\n",
    "    #print(x)\n",
    "    #for char in x:\n",
    "    strings = (\"ALL\", \"FRTC\", \"XXXX\", \"MAKE\", \"All\")\n",
    "    #if any(s in x for s in strings) and :\n",
    "    if x.startswith(strings):\n",
    "        print(x)\n",
    "    else:\n",
    "        pass"
   ]
  },
  {
   "cell_type": "markdown",
   "metadata": {},
   "source": [
    "<h1> **Use PYODBC to get column headers from SQL** </h1>"
   ]
  },
  {
   "cell_type": "code",
   "execution_count": null,
   "metadata": {
    "collapsed": false
   },
   "outputs": [],
   "source": [
    "import pyodbc\n",
    "cnxn = pyodbc.connect(r'DSN=FRTC')\n",
    "cursor = cnxn.cursor()\n",
    "all_tables = []\n",
    "\n",
    "for rows in cursor.tables():\n",
    "    ## Print all tables in database\n",
    "     if rows.table_type == \"TABLE\":\n",
    "        all_tables.append(rows.table_name)\n",
    "        print(all_tables)"
   ]
  },
  {
   "cell_type": "code",
   "execution_count": null,
   "metadata": {
    "collapsed": false
   },
   "outputs": [],
   "source": [
    "## Get all headers from each table in the database\n",
    "import csv\n",
    "\n",
    "all_headers = []\n",
    "\n",
    "for table in all_tables:\n",
    "    cursor.execute(\"SELECT * FROM [FRTC_Without_Full_Location].[dbo].\" + table)\n",
    "    columns = [column[0] for column in cursor.description]\n",
    "    \n",
    "    for column in columns:\n",
    "        all_headers.append(column)\n",
    "        \n",
    "        print(all_headers)\n",
    "        \n",
    "\n",
    "with open(r'C:\\Users\\broadways\\CDOT_temp\\Data_dictionary_scrape\\headers_from_SQL_table_test1.csv', 'w', newline='') as f:\n",
    "    writer = csv.writer(f)\n",
    "    writer.writerow(['COLUMN HEADERS'])\n",
    "    for header in all_headers:\n",
    "        writer.writerow([header])"
   ]
  },
  {
   "cell_type": "markdown",
   "metadata": {},
   "source": [
    "<h1> **Use difflib to find differences in data dictionary docs and SQL database** </h1>"
   ]
  },
  {
   "cell_type": "code",
   "execution_count": null,
   "metadata": {
    "collapsed": true
   },
   "outputs": [],
   "source": [
    "import difflib\n",
    "import csv\n",
    "final = []\n",
    "\n",
    "file1 = open(r\"C:\\Users\\broadways\\CDOT_temp\\Data_dictionary_scrape\\Outputs\\Data_dictionary_scrape_BOTHdocs.txt\")\n",
    "file2 = open(r\"C:\\Users\\broadways\\CDOT_temp\\Data_dictionary_scrape\\Outputs\\dataDict_SQL_diff_1.csv\")\n",
    "\n",
    "diff = difflib.ndiff(file1.readlines(), file2.readlines())\n",
    "delta = ''.join(x[2:] for x in diff if x.startswith('- '))\n",
    "final.append(delta)\n",
    "print(final)"
   ]
  }
 ],
 "metadata": {
  "kernelspec": {
   "display_name": "geocoder_35",
   "language": "python",
   "name": "geocoder_35"
  },
  "language_info": {
   "codemirror_mode": {
    "name": "ipython",
    "version": 3
   },
   "file_extension": ".py",
   "mimetype": "text/x-python",
   "name": "python",
   "nbconvert_exporter": "python",
   "pygments_lexer": "ipython3",
   "version": "3.5.2"
  }
 },
 "nbformat": 4,
 "nbformat_minor": 2
}
